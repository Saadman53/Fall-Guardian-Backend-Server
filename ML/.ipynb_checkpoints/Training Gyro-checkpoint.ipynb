{
 "cells": [
  {
   "cell_type": "code",
   "execution_count": 81,
   "metadata": {},
   "outputs": [],
   "source": [
    "import pandas as pd\n",
    "from sklearn.metrics import mean_absolute_error\n",
    "from sklearn.model_selection import train_test_split"
   ]
  },
  {
   "cell_type": "code",
   "execution_count": 82,
   "metadata": {},
   "outputs": [
    {
     "data": {
      "text/html": [
       "<div>\n",
       "<style scoped>\n",
       "    .dataframe tbody tr th:only-of-type {\n",
       "        vertical-align: middle;\n",
       "    }\n",
       "\n",
       "    .dataframe tbody tr th {\n",
       "        vertical-align: top;\n",
       "    }\n",
       "\n",
       "    .dataframe thead th {\n",
       "        text-align: right;\n",
       "    }\n",
       "</style>\n",
       "<table border=\"1\" class=\"dataframe\">\n",
       "  <thead>\n",
       "    <tr style=\"text-align: right;\">\n",
       "      <th></th>\n",
       "      <th>index</th>\n",
       "      <th>acc_max</th>\n",
       "      <th>agv_max</th>\n",
       "      <th>agv_min</th>\n",
       "      <th>f6</th>\n",
       "      <th>f7</th>\n",
       "      <th>f8</th>\n",
       "      <th>fall</th>\n",
       "      <th>fcount</th>\n",
       "      <th>gyro_max</th>\n",
       "      <th>kurt_acc</th>\n",
       "      <th>kurt_gyro</th>\n",
       "      <th>lin_max</th>\n",
       "      <th>skew_acc</th>\n",
       "      <th>skew_gyro</th>\n",
       "      <th>ADL</th>\n",
       "    </tr>\n",
       "  </thead>\n",
       "  <tbody>\n",
       "    <tr>\n",
       "      <th>0</th>\n",
       "      <td>726</td>\n",
       "      <td>13.810021</td>\n",
       "      <td>0.103190</td>\n",
       "      <td>-0.122957</td>\n",
       "      <td>1.0</td>\n",
       "      <td>1.669983</td>\n",
       "      <td>2.269746</td>\n",
       "      <td>0.0</td>\n",
       "      <td>0.0</td>\n",
       "      <td>2.301546</td>\n",
       "      <td>15.592039</td>\n",
       "      <td>5.054454</td>\n",
       "      <td>1.730754</td>\n",
       "      <td>2.700517</td>\n",
       "      <td>2.407662</td>\n",
       "      <td>SCH</td>\n",
       "    </tr>\n",
       "    <tr>\n",
       "      <th>1</th>\n",
       "      <td>734</td>\n",
       "      <td>20.852910</td>\n",
       "      <td>0.395297</td>\n",
       "      <td>-0.271183</td>\n",
       "      <td>1.0</td>\n",
       "      <td>2.701926</td>\n",
       "      <td>1.327096</td>\n",
       "      <td>0.0</td>\n",
       "      <td>7.0</td>\n",
       "      <td>3.574744</td>\n",
       "      <td>1.648918</td>\n",
       "      <td>-0.620493</td>\n",
       "      <td>6.665781</td>\n",
       "      <td>0.785328</td>\n",
       "      <td>0.411192</td>\n",
       "      <td>STU</td>\n",
       "    </tr>\n",
       "    <tr>\n",
       "      <th>2</th>\n",
       "      <td>18</td>\n",
       "      <td>25.784122</td>\n",
       "      <td>0.604081</td>\n",
       "      <td>-0.779907</td>\n",
       "      <td>1.0</td>\n",
       "      <td>9.976794</td>\n",
       "      <td>5.170486</td>\n",
       "      <td>1.0</td>\n",
       "      <td>10.0</td>\n",
       "      <td>5.269067</td>\n",
       "      <td>21.850779</td>\n",
       "      <td>0.523270</td>\n",
       "      <td>10.189439</td>\n",
       "      <td>3.982581</td>\n",
       "      <td>1.215690</td>\n",
       "      <td>Fall</td>\n",
       "    </tr>\n",
       "    <tr>\n",
       "      <th>3</th>\n",
       "      <td>731</td>\n",
       "      <td>25.179175</td>\n",
       "      <td>3.524050</td>\n",
       "      <td>-2.008726</td>\n",
       "      <td>1.0</td>\n",
       "      <td>-0.958561</td>\n",
       "      <td>0.752142</td>\n",
       "      <td>0.0</td>\n",
       "      <td>32.0</td>\n",
       "      <td>8.124818</td>\n",
       "      <td>-1.347980</td>\n",
       "      <td>0.050479</td>\n",
       "      <td>9.560863</td>\n",
       "      <td>0.088261</td>\n",
       "      <td>0.722435</td>\n",
       "      <td>JOG</td>\n",
       "    </tr>\n",
       "    <tr>\n",
       "      <th>4</th>\n",
       "      <td>358</td>\n",
       "      <td>13.726980</td>\n",
       "      <td>0.282009</td>\n",
       "      <td>-0.165500</td>\n",
       "      <td>1.0</td>\n",
       "      <td>1.191558</td>\n",
       "      <td>-0.662310</td>\n",
       "      <td>0.0</td>\n",
       "      <td>1.0</td>\n",
       "      <td>1.705103</td>\n",
       "      <td>3.495231</td>\n",
       "      <td>-1.071578</td>\n",
       "      <td>2.690684</td>\n",
       "      <td>0.121060</td>\n",
       "      <td>0.595888</td>\n",
       "      <td>CSI</td>\n",
       "    </tr>\n",
       "  </tbody>\n",
       "</table>\n",
       "</div>"
      ],
      "text/plain": [
       "   index    acc_max   agv_max   agv_min   f6        f7        f8  fall  \\\n",
       "0    726  13.810021  0.103190 -0.122957  1.0  1.669983  2.269746   0.0   \n",
       "1    734  20.852910  0.395297 -0.271183  1.0  2.701926  1.327096   0.0   \n",
       "2     18  25.784122  0.604081 -0.779907  1.0  9.976794  5.170486   1.0   \n",
       "3    731  25.179175  3.524050 -2.008726  1.0 -0.958561  0.752142   0.0   \n",
       "4    358  13.726980  0.282009 -0.165500  1.0  1.191558 -0.662310   0.0   \n",
       "\n",
       "   fcount  gyro_max   kurt_acc  kurt_gyro    lin_max  skew_acc  skew_gyro  \\\n",
       "0     0.0  2.301546  15.592039   5.054454   1.730754  2.700517   2.407662   \n",
       "1     7.0  3.574744   1.648918  -0.620493   6.665781  0.785328   0.411192   \n",
       "2    10.0  5.269067  21.850779   0.523270  10.189439  3.982581   1.215690   \n",
       "3    32.0  8.124818  -1.347980   0.050479   9.560863  0.088261   0.722435   \n",
       "4     1.0  1.705103   3.495231  -1.071578   2.690684  0.121060   0.595888   \n",
       "\n",
       "    ADL  \n",
       "0   SCH  \n",
       "1   STU  \n",
       "2  Fall  \n",
       "3   JOG  \n",
       "4   CSI  "
      ]
     },
     "execution_count": 82,
     "metadata": {},
     "output_type": "execute_result"
    }
   ],
   "source": [
    "path = \"C:/Users/USER/Desktop/backend/ML/final_train.csv\"\n",
    "train = pd.read_csv(path)\n",
    "train=train.sample(frac=1).reset_index(drop=True)\n",
    "train.head()\n",
    "\n"
   ]
  },
  {
   "cell_type": "code",
   "execution_count": 53,
   "metadata": {},
   "outputs": [
    {
     "data": {
      "text/html": [
       "<div>\n",
       "<style scoped>\n",
       "    .dataframe tbody tr th:only-of-type {\n",
       "        vertical-align: middle;\n",
       "    }\n",
       "\n",
       "    .dataframe tbody tr th {\n",
       "        vertical-align: top;\n",
       "    }\n",
       "\n",
       "    .dataframe thead th {\n",
       "        text-align: right;\n",
       "    }\n",
       "</style>\n",
       "<table border=\"1\" class=\"dataframe\">\n",
       "  <thead>\n",
       "    <tr style=\"text-align: right;\">\n",
       "      <th></th>\n",
       "      <th>acc_max</th>\n",
       "      <th>agv_max</th>\n",
       "      <th>agv_min</th>\n",
       "      <th>f7</th>\n",
       "      <th>fcount</th>\n",
       "      <th>kurt_acc</th>\n",
       "      <th>lin_max</th>\n",
       "      <th>skew_acc</th>\n",
       "    </tr>\n",
       "  </thead>\n",
       "  <tbody>\n",
       "    <tr>\n",
       "      <th>0</th>\n",
       "      <td>22.605612</td>\n",
       "      <td>0.393812</td>\n",
       "      <td>-0.524083</td>\n",
       "      <td>4.994166</td>\n",
       "      <td>5.0</td>\n",
       "      <td>8.582500</td>\n",
       "      <td>5.078534</td>\n",
       "      <td>2.227024</td>\n",
       "    </tr>\n",
       "    <tr>\n",
       "      <th>1</th>\n",
       "      <td>16.216196</td>\n",
       "      <td>0.310626</td>\n",
       "      <td>-0.224182</td>\n",
       "      <td>2.494940</td>\n",
       "      <td>1.0</td>\n",
       "      <td>13.048584</td>\n",
       "      <td>3.704106</td>\n",
       "      <td>1.766760</td>\n",
       "    </tr>\n",
       "    <tr>\n",
       "      <th>2</th>\n",
       "      <td>21.315272</td>\n",
       "      <td>4.000000</td>\n",
       "      <td>-0.866383</td>\n",
       "      <td>11.450844</td>\n",
       "      <td>6.0</td>\n",
       "      <td>4.698597</td>\n",
       "      <td>12.208701</td>\n",
       "      <td>1.162275</td>\n",
       "    </tr>\n",
       "    <tr>\n",
       "      <th>3</th>\n",
       "      <td>21.026594</td>\n",
       "      <td>0.435879</td>\n",
       "      <td>-0.346430</td>\n",
       "      <td>6.890445</td>\n",
       "      <td>8.0</td>\n",
       "      <td>1.526638</td>\n",
       "      <td>7.699711</td>\n",
       "      <td>0.813598</td>\n",
       "    </tr>\n",
       "    <tr>\n",
       "      <th>4</th>\n",
       "      <td>26.241008</td>\n",
       "      <td>1.738834</td>\n",
       "      <td>-2.115457</td>\n",
       "      <td>11.863005</td>\n",
       "      <td>6.0</td>\n",
       "      <td>22.454230</td>\n",
       "      <td>12.037130</td>\n",
       "      <td>2.645017</td>\n",
       "    </tr>\n",
       "  </tbody>\n",
       "</table>\n",
       "</div>"
      ],
      "text/plain": [
       "     acc_max   agv_max   agv_min         f7  fcount   kurt_acc    lin_max  \\\n",
       "0  22.605612  0.393812 -0.524083   4.994166     5.0   8.582500   5.078534   \n",
       "1  16.216196  0.310626 -0.224182   2.494940     1.0  13.048584   3.704106   \n",
       "2  21.315272  4.000000 -0.866383  11.450844     6.0   4.698597  12.208701   \n",
       "3  21.026594  0.435879 -0.346430   6.890445     8.0   1.526638   7.699711   \n",
       "4  26.241008  1.738834 -2.115457  11.863005     6.0  22.454230  12.037130   \n",
       "\n",
       "   skew_acc  \n",
       "0  2.227024  \n",
       "1  1.766760  \n",
       "2  1.162275  \n",
       "3  0.813598  \n",
       "4  2.645017  "
      ]
     },
     "execution_count": 53,
     "metadata": {},
     "output_type": "execute_result"
    }
   ],
   "source": [
    "y = train.fall\n",
    "cols_to_del = ['fall','ADL','index','f6','gyro_max','kurt_gyro','skew_gyro','f8','fcount']\n",
    "X = train.copy()\n",
    "X= X.drop(cols_to_del,axis=1)\n",
    "X.head()"
   ]
  },
  {
   "cell_type": "code",
   "execution_count": 54,
   "metadata": {},
   "outputs": [],
   "source": [
    "X_train,X_val,y_train,y_val = train_test_split(X,y,train_size=0.7,test_size=0.3,random_state=1)"
   ]
  },
  {
   "cell_type": "code",
   "execution_count": 55,
   "metadata": {},
   "outputs": [],
   "source": [
    "from sklearn.ensemble import RandomForestRegressor\n",
    "from sklearn.metrics import mean_absolute_error\n",
    "from sklearn.linear_model import LogisticRegression\n",
    "from sklearn.ensemble import RandomForestClassifier\n",
    "#model = LogisticRegression(random_state=0,max_iter=100)\n",
    "\n",
    "from sklearn import svm\n",
    "\n",
    "\n",
    "model = svm.SVC(kernel='linear') # Linear Kernel\n",
    "\n",
    "model.fit(X_train,y_train)\n",
    "# model = XGBRegressor(n_estimators=800,learning_rate=0.05)\n",
    "# model.fit(X_train,y_train,early_stopping_rounds=5,eval_set=[(X_val,y_val)],verbose=False)\n",
    "preds = model.predict(X_val)\n",
    "preds[preds>=0.7]=1\n",
    "preds[preds<0.7]=0"
   ]
  },
  {
   "cell_type": "code",
   "execution_count": 56,
   "metadata": {},
   "outputs": [],
   "source": [
    "p = pd.Series(preds,index=y_val.index)"
   ]
  },
  {
   "cell_type": "code",
   "execution_count": 57,
   "metadata": {},
   "outputs": [],
   "source": [
    " accuracy = (y_val==p).sum()*100/(p.shape[0])"
   ]
  },
  {
   "cell_type": "code",
   "execution_count": 58,
   "metadata": {},
   "outputs": [],
   "source": [
    "indices_of_neg = y_val[y_val==1.0].index"
   ]
  },
  {
   "cell_type": "code",
   "execution_count": 59,
   "metadata": {},
   "outputs": [
    {
     "data": {
      "text/plain": [
       "93.30543933054393"
      ]
     },
     "execution_count": 59,
     "metadata": {},
     "output_type": "execute_result"
    }
   ],
   "source": [
    "predict = p.loc[indices_of_neg]\n",
    "actual = y.loc[indices_of_neg]\n",
    "\n",
    "\n",
    "true_positive = (predict==actual).sum()*100/actual.shape[0]\n",
    "true_positive\n",
    "\n"
   ]
  },
  {
   "cell_type": "code",
   "execution_count": 60,
   "metadata": {},
   "outputs": [],
   "source": [
    "true_negative = (predict==actual).sum()*100/actual.shape[0]"
   ]
  },
  {
   "cell_type": "code",
   "execution_count": 61,
   "metadata": {},
   "outputs": [],
   "source": [
    "indices_of_pos = y_val[y_val==0.0].index"
   ]
  },
  {
   "cell_type": "code",
   "execution_count": 62,
   "metadata": {},
   "outputs": [],
   "source": [
    "\n",
    "\n",
    "predict = p.loc[indices_of_pos]\n",
    "actual = y.loc[indices_of_pos]\n",
    "\n"
   ]
  },
  {
   "cell_type": "code",
   "execution_count": 63,
   "metadata": {},
   "outputs": [
    {
     "name": "stdout",
     "output_type": "stream",
     "text": [
      "Accuracy: 95.1171875%\n",
      "True Positive: 93.30543933054393%\n",
      "True Negative: 93.30543933054393%\n"
     ]
    }
   ],
   "source": [
    "print(\"Accuracy: {}%\\nTrue Positive: {}%\\nTrue Negative: {}%\".format(accuracy,true_positive,true_negative))"
   ]
  },
  {
   "cell_type": "code",
   "execution_count": 64,
   "metadata": {},
   "outputs": [],
   "source": [
    "import pickle\n",
    "import joblib"
   ]
  },
  {
   "cell_type": "code",
   "execution_count": 65,
   "metadata": {},
   "outputs": [
    {
     "data": {
      "text/plain": [
       "['fall_model_acc.pkl']"
      ]
     },
     "execution_count": 65,
     "metadata": {},
     "output_type": "execute_result"
    }
   ],
   "source": []
  },
  {
   "cell_type": "code",
   "execution_count": 100,
   "metadata": {},
   "outputs": [],
   "source": [
    "path = \"C:/Users/USER/Desktop/backend/ML/data.csv\"\n"
   ]
  },
  {
   "cell_type": "code",
   "execution_count": 101,
   "metadata": {},
   "outputs": [],
   "source": [
    "df = pd.read_csv(path)\n"
   ]
  },
  {
   "cell_type": "code",
   "execution_count": 102,
   "metadata": {},
   "outputs": [],
   "source": [
    "df['rel_time'] = (df['timestamp']-df.loc[0]['timestamp'])/1000.0"
   ]
  },
  {
   "cell_type": "code",
   "execution_count": 103,
   "metadata": {},
   "outputs": [
    {
     "data": {
      "text/plain": [
       "0        0.000\n",
       "1        0.000\n",
       "2        0.000\n",
       "3        0.001\n",
       "4        0.001\n",
       "         ...  \n",
       "1205    11.736\n",
       "1206    11.746\n",
       "1207    11.756\n",
       "1208    11.769\n",
       "1209    11.776\n",
       "Name: rel_time, Length: 1210, dtype: float64"
      ]
     },
     "execution_count": 103,
     "metadata": {},
     "output_type": "execute_result"
    }
   ],
   "source": [
    "df['rel_time']"
   ]
  },
  {
   "cell_type": "code",
   "execution_count": 110,
   "metadata": {},
   "outputs": [
    {
     "data": {
      "text/plain": [
       "0      0.000\n",
       "1      0.000\n",
       "2      0.000\n",
       "3      0.001\n",
       "4      0.001\n",
       "       ...  \n",
       "575    5.406\n",
       "576    5.416\n",
       "577    5.426\n",
       "578    5.436\n",
       "579    5.446\n",
       "Name: rel_time, Length: 580, dtype: float64"
      ]
     },
     "execution_count": 110,
     "metadata": {},
     "output_type": "execute_result"
    }
   ],
   "source": [
    "df['rel_time'].head(580)"
   ]
  },
  {
   "cell_type": "code",
   "execution_count": null,
   "metadata": {},
   "outputs": [],
   "source": []
  }
 ],
 "metadata": {
  "kernelspec": {
   "display_name": "Python 3",
   "language": "python",
   "name": "python3"
  },
  "language_info": {
   "codemirror_mode": {
    "name": "ipython",
    "version": 3
   },
   "file_extension": ".py",
   "mimetype": "text/x-python",
   "name": "python",
   "nbconvert_exporter": "python",
   "pygments_lexer": "ipython3",
   "version": "3.8.3"
  }
 },
 "nbformat": 4,
 "nbformat_minor": 4
}
