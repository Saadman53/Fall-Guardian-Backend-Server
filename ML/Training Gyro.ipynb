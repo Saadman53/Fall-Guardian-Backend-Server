{
 "cells": [
  {
   "cell_type": "code",
   "execution_count": 1,
   "metadata": {},
   "outputs": [],
   "source": [
    "import pandas as pd\n",
    "import seaborn as sns\n",
    "import matplotlib.pyplot as plt\n",
    "\n",
    "from sklearn.metrics import mean_absolute_error\n",
    "from sklearn.model_selection import train_test_split"
   ]
  },
  {
   "cell_type": "code",
   "execution_count": 2,
   "metadata": {},
   "outputs": [
    {
     "data": {
      "text/html": [
       "<div>\n",
       "<style scoped>\n",
       "    .dataframe tbody tr th:only-of-type {\n",
       "        vertical-align: middle;\n",
       "    }\n",
       "\n",
       "    .dataframe tbody tr th {\n",
       "        vertical-align: top;\n",
       "    }\n",
       "\n",
       "    .dataframe thead th {\n",
       "        text-align: right;\n",
       "    }\n",
       "</style>\n",
       "<table border=\"1\" class=\"dataframe\">\n",
       "  <thead>\n",
       "    <tr style=\"text-align: right;\">\n",
       "      <th></th>\n",
       "      <th>index</th>\n",
       "      <th>acc_max</th>\n",
       "      <th>agv_max</th>\n",
       "      <th>agv_min</th>\n",
       "      <th>f6</th>\n",
       "      <th>f7</th>\n",
       "      <th>f8</th>\n",
       "      <th>fall</th>\n",
       "      <th>fcount</th>\n",
       "      <th>gyro_max</th>\n",
       "      <th>kurt_acc</th>\n",
       "      <th>kurt_gyro</th>\n",
       "      <th>lin_max</th>\n",
       "      <th>skew_acc</th>\n",
       "      <th>skew_gyro</th>\n",
       "      <th>ADL</th>\n",
       "    </tr>\n",
       "  </thead>\n",
       "  <tbody>\n",
       "    <tr>\n",
       "      <th>0</th>\n",
       "      <td>247</td>\n",
       "      <td>19.155586</td>\n",
       "      <td>0.361533</td>\n",
       "      <td>-0.244481</td>\n",
       "      <td>1.0</td>\n",
       "      <td>7.061176</td>\n",
       "      <td>2.278156</td>\n",
       "      <td>0.0</td>\n",
       "      <td>2.0</td>\n",
       "      <td>2.332864</td>\n",
       "      <td>17.934084</td>\n",
       "      <td>-0.661770</td>\n",
       "      <td>7.143958</td>\n",
       "      <td>2.504044</td>\n",
       "      <td>0.821465</td>\n",
       "      <td>CSI</td>\n",
       "    </tr>\n",
       "    <tr>\n",
       "      <th>1</th>\n",
       "      <td>72</td>\n",
       "      <td>24.496454</td>\n",
       "      <td>0.711836</td>\n",
       "      <td>-0.458393</td>\n",
       "      <td>1.0</td>\n",
       "      <td>8.950193</td>\n",
       "      <td>4.831045</td>\n",
       "      <td>1.0</td>\n",
       "      <td>4.0</td>\n",
       "      <td>4.902791</td>\n",
       "      <td>17.533206</td>\n",
       "      <td>1.975576</td>\n",
       "      <td>9.036588</td>\n",
       "      <td>2.881903</td>\n",
       "      <td>1.787386</td>\n",
       "      <td>Fall</td>\n",
       "    </tr>\n",
       "    <tr>\n",
       "      <th>2</th>\n",
       "      <td>93</td>\n",
       "      <td>19.996389</td>\n",
       "      <td>4.000000</td>\n",
       "      <td>-0.760618</td>\n",
       "      <td>1.0</td>\n",
       "      <td>1.560820</td>\n",
       "      <td>5.528732</td>\n",
       "      <td>0.0</td>\n",
       "      <td>8.0</td>\n",
       "      <td>10.549985</td>\n",
       "      <td>1.527307</td>\n",
       "      <td>5.712701</td>\n",
       "      <td>10.674674</td>\n",
       "      <td>0.717460</td>\n",
       "      <td>1.905542</td>\n",
       "      <td>STU</td>\n",
       "    </tr>\n",
       "    <tr>\n",
       "      <th>3</th>\n",
       "      <td>661</td>\n",
       "      <td>14.998349</td>\n",
       "      <td>0.276562</td>\n",
       "      <td>-0.115753</td>\n",
       "      <td>1.0</td>\n",
       "      <td>4.746455</td>\n",
       "      <td>0.687796</td>\n",
       "      <td>0.0</td>\n",
       "      <td>0.0</td>\n",
       "      <td>2.139293</td>\n",
       "      <td>7.681304</td>\n",
       "      <td>-0.686285</td>\n",
       "      <td>6.047440</td>\n",
       "      <td>1.657113</td>\n",
       "      <td>0.736308</td>\n",
       "      <td>CSO</td>\n",
       "    </tr>\n",
       "    <tr>\n",
       "      <th>4</th>\n",
       "      <td>724</td>\n",
       "      <td>16.684436</td>\n",
       "      <td>0.260767</td>\n",
       "      <td>-0.257376</td>\n",
       "      <td>1.0</td>\n",
       "      <td>3.128187</td>\n",
       "      <td>1.214232</td>\n",
       "      <td>0.0</td>\n",
       "      <td>2.0</td>\n",
       "      <td>2.157930</td>\n",
       "      <td>9.139635</td>\n",
       "      <td>0.202059</td>\n",
       "      <td>3.676569</td>\n",
       "      <td>1.924634</td>\n",
       "      <td>1.201084</td>\n",
       "      <td>CSI</td>\n",
       "    </tr>\n",
       "  </tbody>\n",
       "</table>\n",
       "</div>"
      ],
      "text/plain": [
       "   index    acc_max   agv_max   agv_min   f6        f7        f8  fall  \\\n",
       "0    247  19.155586  0.361533 -0.244481  1.0  7.061176  2.278156   0.0   \n",
       "1     72  24.496454  0.711836 -0.458393  1.0  8.950193  4.831045   1.0   \n",
       "2     93  19.996389  4.000000 -0.760618  1.0  1.560820  5.528732   0.0   \n",
       "3    661  14.998349  0.276562 -0.115753  1.0  4.746455  0.687796   0.0   \n",
       "4    724  16.684436  0.260767 -0.257376  1.0  3.128187  1.214232   0.0   \n",
       "\n",
       "   fcount   gyro_max   kurt_acc  kurt_gyro    lin_max  skew_acc  skew_gyro  \\\n",
       "0     2.0   2.332864  17.934084  -0.661770   7.143958  2.504044   0.821465   \n",
       "1     4.0   4.902791  17.533206   1.975576   9.036588  2.881903   1.787386   \n",
       "2     8.0  10.549985   1.527307   5.712701  10.674674  0.717460   1.905542   \n",
       "3     0.0   2.139293   7.681304  -0.686285   6.047440  1.657113   0.736308   \n",
       "4     2.0   2.157930   9.139635   0.202059   3.676569  1.924634   1.201084   \n",
       "\n",
       "    ADL  \n",
       "0   CSI  \n",
       "1  Fall  \n",
       "2   STU  \n",
       "3   CSO  \n",
       "4   CSI  "
      ]
     },
     "execution_count": 2,
     "metadata": {},
     "output_type": "execute_result"
    }
   ],
   "source": [
    "path = \"C:/Users/USER/Desktop/backend/ML/final_train.csv\"\n",
    "train = pd.read_csv(path)\n",
    "train=train.sample(frac=1).reset_index(drop=True)\n",
    "train.head()\n",
    "\n"
   ]
  },
  {
   "cell_type": "code",
   "execution_count": 3,
   "metadata": {},
   "outputs": [
    {
     "data": {
      "text/html": [
       "<div>\n",
       "<style scoped>\n",
       "    .dataframe tbody tr th:only-of-type {\n",
       "        vertical-align: middle;\n",
       "    }\n",
       "\n",
       "    .dataframe tbody tr th {\n",
       "        vertical-align: top;\n",
       "    }\n",
       "\n",
       "    .dataframe thead th {\n",
       "        text-align: right;\n",
       "    }\n",
       "</style>\n",
       "<table border=\"1\" class=\"dataframe\">\n",
       "  <thead>\n",
       "    <tr style=\"text-align: right;\">\n",
       "      <th></th>\n",
       "      <th>acc_max</th>\n",
       "      <th>agv_max</th>\n",
       "      <th>agv_min</th>\n",
       "      <th>f7</th>\n",
       "      <th>f8</th>\n",
       "      <th>gyro_max</th>\n",
       "      <th>kurt_acc</th>\n",
       "      <th>kurt_gyro</th>\n",
       "      <th>lin_max</th>\n",
       "      <th>skew_acc</th>\n",
       "      <th>skew_gyro</th>\n",
       "    </tr>\n",
       "  </thead>\n",
       "  <tbody>\n",
       "    <tr>\n",
       "      <th>0</th>\n",
       "      <td>19.155586</td>\n",
       "      <td>0.361533</td>\n",
       "      <td>-0.244481</td>\n",
       "      <td>7.061176</td>\n",
       "      <td>2.278156</td>\n",
       "      <td>2.332864</td>\n",
       "      <td>17.934084</td>\n",
       "      <td>-0.661770</td>\n",
       "      <td>7.143958</td>\n",
       "      <td>2.504044</td>\n",
       "      <td>0.821465</td>\n",
       "    </tr>\n",
       "    <tr>\n",
       "      <th>1</th>\n",
       "      <td>24.496454</td>\n",
       "      <td>0.711836</td>\n",
       "      <td>-0.458393</td>\n",
       "      <td>8.950193</td>\n",
       "      <td>4.831045</td>\n",
       "      <td>4.902791</td>\n",
       "      <td>17.533206</td>\n",
       "      <td>1.975576</td>\n",
       "      <td>9.036588</td>\n",
       "      <td>2.881903</td>\n",
       "      <td>1.787386</td>\n",
       "    </tr>\n",
       "    <tr>\n",
       "      <th>2</th>\n",
       "      <td>19.996389</td>\n",
       "      <td>4.000000</td>\n",
       "      <td>-0.760618</td>\n",
       "      <td>1.560820</td>\n",
       "      <td>5.528732</td>\n",
       "      <td>10.549985</td>\n",
       "      <td>1.527307</td>\n",
       "      <td>5.712701</td>\n",
       "      <td>10.674674</td>\n",
       "      <td>0.717460</td>\n",
       "      <td>1.905542</td>\n",
       "    </tr>\n",
       "    <tr>\n",
       "      <th>3</th>\n",
       "      <td>14.998349</td>\n",
       "      <td>0.276562</td>\n",
       "      <td>-0.115753</td>\n",
       "      <td>4.746455</td>\n",
       "      <td>0.687796</td>\n",
       "      <td>2.139293</td>\n",
       "      <td>7.681304</td>\n",
       "      <td>-0.686285</td>\n",
       "      <td>6.047440</td>\n",
       "      <td>1.657113</td>\n",
       "      <td>0.736308</td>\n",
       "    </tr>\n",
       "    <tr>\n",
       "      <th>4</th>\n",
       "      <td>16.684436</td>\n",
       "      <td>0.260767</td>\n",
       "      <td>-0.257376</td>\n",
       "      <td>3.128187</td>\n",
       "      <td>1.214232</td>\n",
       "      <td>2.157930</td>\n",
       "      <td>9.139635</td>\n",
       "      <td>0.202059</td>\n",
       "      <td>3.676569</td>\n",
       "      <td>1.924634</td>\n",
       "      <td>1.201084</td>\n",
       "    </tr>\n",
       "  </tbody>\n",
       "</table>\n",
       "</div>"
      ],
      "text/plain": [
       "     acc_max   agv_max   agv_min        f7        f8   gyro_max   kurt_acc  \\\n",
       "0  19.155586  0.361533 -0.244481  7.061176  2.278156   2.332864  17.934084   \n",
       "1  24.496454  0.711836 -0.458393  8.950193  4.831045   4.902791  17.533206   \n",
       "2  19.996389  4.000000 -0.760618  1.560820  5.528732  10.549985   1.527307   \n",
       "3  14.998349  0.276562 -0.115753  4.746455  0.687796   2.139293   7.681304   \n",
       "4  16.684436  0.260767 -0.257376  3.128187  1.214232   2.157930   9.139635   \n",
       "\n",
       "   kurt_gyro    lin_max  skew_acc  skew_gyro  \n",
       "0  -0.661770   7.143958  2.504044   0.821465  \n",
       "1   1.975576   9.036588  2.881903   1.787386  \n",
       "2   5.712701  10.674674  0.717460   1.905542  \n",
       "3  -0.686285   6.047440  1.657113   0.736308  \n",
       "4   0.202059   3.676569  1.924634   1.201084  "
      ]
     },
     "execution_count": 3,
     "metadata": {},
     "output_type": "execute_result"
    }
   ],
   "source": [
    "y = train.fall\n",
    "cols_to_del = ['fall','ADL','index','f6','fcount']\n",
    "X = train.copy()\n",
    "X= X.drop(cols_to_del,axis=1)\n",
    "X.head()"
   ]
  },
  {
   "cell_type": "code",
   "execution_count": 4,
   "metadata": {},
   "outputs": [],
   "source": [
    "X_train,X_val,y_train,y_val = train_test_split(X,y,train_size=0.7,test_size=0.3,random_state=1)"
   ]
  },
  {
   "cell_type": "code",
   "execution_count": 5,
   "metadata": {},
   "outputs": [],
   "source": [
    "from sklearn.ensemble import RandomForestRegressor\n",
    "from sklearn.metrics import mean_absolute_error\n",
    "from sklearn.linear_model import LogisticRegression\n",
    "from sklearn.ensemble import RandomForestClassifier\n",
    "#model = LogisticRegression(random_state=0,max_iter=100)\n",
    "\n",
    "from sklearn import svm\n",
    "\n",
    "\n",
    "model = svm.SVC(kernel='linear') # Linear Kernel\n",
    "\n",
    "model.fit(X_train,y_train)\n",
    "# model = XGBRegressor(n_estimators=800,learning_rate=0.05)\n",
    "# model.fit(X_train,y_train,early_stopping_rounds=5,eval_set=[(X_val,y_val)],verbose=False)\n",
    "preds = model.predict(X_val)\n",
    "preds[preds>=0.7]=1\n",
    "preds[preds<0.7]=0"
   ]
  },
  {
   "cell_type": "code",
   "execution_count": 6,
   "metadata": {},
   "outputs": [],
   "source": [
    "p = pd.Series(preds,index=y_val.index)"
   ]
  },
  {
   "cell_type": "code",
   "execution_count": 7,
   "metadata": {},
   "outputs": [],
   "source": [
    " accuracy = (y_val==p).sum()*100/(p.shape[0])"
   ]
  },
  {
   "cell_type": "code",
   "execution_count": null,
   "metadata": {},
   "outputs": [],
   "source": []
  },
  {
   "cell_type": "code",
   "execution_count": 8,
   "metadata": {},
   "outputs": [
    {
     "data": {
      "text/plain": [
       "93.13304721030043"
      ]
     },
     "execution_count": 8,
     "metadata": {},
     "output_type": "execute_result"
    }
   ],
   "source": [
    "indices_of_neg = y_val[y_val==1.0].index\n",
    "predict = p.loc[indices_of_neg]\n",
    "actual = y.loc[indices_of_neg]\n",
    "true_negative = (predict==actual).sum()*100/actual.shape[0]\n",
    "true_negative"
   ]
  },
  {
   "cell_type": "code",
   "execution_count": null,
   "metadata": {},
   "outputs": [],
   "source": []
  },
  {
   "cell_type": "code",
   "execution_count": null,
   "metadata": {},
   "outputs": [],
   "source": []
  },
  {
   "cell_type": "code",
   "execution_count": 9,
   "metadata": {},
   "outputs": [
    {
     "data": {
      "text/plain": [
       "93.54838709677419"
      ]
     },
     "execution_count": 9,
     "metadata": {},
     "output_type": "execute_result"
    }
   ],
   "source": [
    "indices_of_pos = y_val[y_val==0.0].index\n",
    "predict = p.loc[indices_of_pos]\n",
    "actual = y.loc[indices_of_pos]\n",
    "\n",
    "true_positive = (predict==actual).sum()*100/actual.shape[0]\n",
    "true_positive\n"
   ]
  },
  {
   "cell_type": "code",
   "execution_count": 10,
   "metadata": {},
   "outputs": [
    {
     "name": "stdout",
     "output_type": "stream",
     "text": [
      "Accuracy: 93.359375%\n",
      "True Positive: 93.54838709677419%\n",
      "True Negative: 93.13304721030043%\n"
     ]
    }
   ],
   "source": [
    "print(\"Accuracy: {}%\\nTrue Positive: {}%\\nTrue Negative: {}%\".format(accuracy,true_positive,true_negative))"
   ]
  },
  {
   "cell_type": "code",
   "execution_count": 11,
   "metadata": {},
   "outputs": [],
   "source": [
    "import pickle\n",
    "import joblib"
   ]
  },
  {
   "cell_type": "code",
   "execution_count": 14,
   "metadata": {},
   "outputs": [
    {
     "data": {
      "text/plain": [
       "['fall_predict_both.pkl']"
      ]
     },
     "execution_count": 14,
     "metadata": {},
     "output_type": "execute_result"
    }
   ],
   "source": [
    "joblib.dump(model,\"fall_predict_both.pkl\")"
   ]
  },
  {
   "cell_type": "code",
   "execution_count": 13,
   "metadata": {},
   "outputs": [
    {
     "data": {
      "image/png": "[encoded data removed]",
      "text/plain": [
       "<Figure size 432x288 with 2 Axes>"
      ]
     },
     "metadata": {
      "needs_background": "light"
     },
     "output_type": "display_data"
    }
   ],
   "source": [
    "from sklearn.metrics import confusion_matrix\n",
    "cm = confusion_matrix(y_val,p)\n",
    "ax = plt.subplot()\n",
    "sns.heatmap(cm,annot=True,ax=ax);\n",
    "ax.set_xlabel('Predicted');ax.set_ylabel('Actual');\n",
    "ax.set_title('Confusion Matrix')\n",
    "ax.xaxis.set_ticklabels(['No','Yes']);ax.yaxis.set_ticklabels(['No','Yes']);"
   ]
  },
  {
   "cell_type": "code",
   "execution_count": 111,
   "metadata": {},
   "outputs": [
    {
     "data": {
      "text/plain": [
       "277"
      ]
     },
     "execution_count": 111,
     "metadata": {},
     "output_type": "execute_result"
    }
   ],
   "source": [
    "pre\n"
   ]
  },
  {
   "cell_type": "code",
   "execution_count": 107,
   "metadata": {},
   "outputs": [],
   "source": []
  },
  {
   "cell_type": "code",
   "execution_count": 86,
   "metadata": {},
   "outputs": [
    {
     "data": {
      "text/plain": [
       "0        0.000\n",
       "1        0.000\n",
       "2        0.000\n",
       "3        0.001\n",
       "4        0.001\n",
       "         ...  \n",
       "1205    11.736\n",
       "1206    11.746\n",
       "1207    11.756\n",
       "1208    11.769\n",
       "1209    11.776\n",
       "Name: rel_time, Length: 1210, dtype: float64"
      ]
     },
     "execution_count": 86,
     "metadata": {},
     "output_type": "execute_result"
    }
   ],
   "source": []
  },
  {
   "cell_type": "code",
   "execution_count": 87,
   "metadata": {},
   "outputs": [
    {
     "data": {
      "text/plain": [
       "0      0.000\n",
       "1      0.000\n",
       "2      0.000\n",
       "3      0.001\n",
       "4      0.001\n",
       "       ...  \n",
       "575    5.406\n",
       "576    5.416\n",
       "577    5.426\n",
       "578    5.436\n",
       "579    5.446\n",
       "Name: rel_time, Length: 580, dtype: float64"
      ]
     },
     "execution_count": 87,
     "metadata": {},
     "output_type": "execute_result"
    }
   ],
   "source": []
  },
  {
   "cell_type": "code",
   "execution_count": 88,
   "metadata": {},
   "outputs": [
    {
     "data": {
      "text/html": [
       "<div>\n",
       "<style scoped>\n",
       "    .dataframe tbody tr th:only-of-type {\n",
       "        vertical-align: middle;\n",
       "    }\n",
       "\n",
       "    .dataframe tbody tr th {\n",
       "        vertical-align: top;\n",
       "    }\n",
       "\n",
       "    .dataframe thead th {\n",
       "        text-align: right;\n",
       "    }\n",
       "</style>\n",
       "<table border=\"1\" class=\"dataframe\">\n",
       "  <thead>\n",
       "    <tr style=\"text-align: right;\">\n",
       "      <th></th>\n",
       "      <th>acc_max</th>\n",
       "      <th>agv_max</th>\n",
       "      <th>agv_min</th>\n",
       "      <th>f7</th>\n",
       "      <th>f8</th>\n",
       "      <th>gyro_max</th>\n",
       "      <th>kurt_acc</th>\n",
       "      <th>kurt_gyro</th>\n",
       "      <th>lin_max</th>\n",
       "      <th>skew_acc</th>\n",
       "      <th>skew_gyro</th>\n",
       "    </tr>\n",
       "  </thead>\n",
       "  <tbody>\n",
       "    <tr>\n",
       "      <th>285</th>\n",
       "      <td>12.227273</td>\n",
       "      <td>0.123320</td>\n",
       "      <td>-0.098166</td>\n",
       "      <td>1.210738</td>\n",
       "      <td>0.838226</td>\n",
       "      <td>2.343966</td>\n",
       "      <td>2.432502</td>\n",
       "      <td>-0.522451</td>\n",
       "      <td>2.142280</td>\n",
       "      <td>0.984574</td>\n",
       "      <td>0.811317</td>\n",
       "    </tr>\n",
       "    <tr>\n",
       "      <th>248</th>\n",
       "      <td>27.149050</td>\n",
       "      <td>0.712099</td>\n",
       "      <td>-1.569536</td>\n",
       "      <td>13.586348</td>\n",
       "      <td>5.181700</td>\n",
       "      <td>5.347245</td>\n",
       "      <td>12.059011</td>\n",
       "      <td>8.326424</td>\n",
       "      <td>13.854186</td>\n",
       "      <td>2.388013</td>\n",
       "      <td>2.842873</td>\n",
       "    </tr>\n",
       "    <tr>\n",
       "      <th>547</th>\n",
       "      <td>20.714584</td>\n",
       "      <td>0.627789</td>\n",
       "      <td>-0.559600</td>\n",
       "      <td>0.485909</td>\n",
       "      <td>-0.157766</td>\n",
       "      <td>4.605221</td>\n",
       "      <td>-0.813295</td>\n",
       "      <td>-0.910295</td>\n",
       "      <td>8.546763</td>\n",
       "      <td>0.202807</td>\n",
       "      <td>0.229562</td>\n",
       "    </tr>\n",
       "    <tr>\n",
       "      <th>442</th>\n",
       "      <td>29.382416</td>\n",
       "      <td>2.537247</td>\n",
       "      <td>-2.246331</td>\n",
       "      <td>10.706714</td>\n",
       "      <td>6.755986</td>\n",
       "      <td>6.900017</td>\n",
       "      <td>17.592749</td>\n",
       "      <td>13.546734</td>\n",
       "      <td>10.951899</td>\n",
       "      <td>2.906674</td>\n",
       "      <td>3.284626</td>\n",
       "    </tr>\n",
       "    <tr>\n",
       "      <th>546</th>\n",
       "      <td>23.021269</td>\n",
       "      <td>0.524744</td>\n",
       "      <td>-0.611789</td>\n",
       "      <td>7.428981</td>\n",
       "      <td>7.099799</td>\n",
       "      <td>7.772748</td>\n",
       "      <td>23.673423</td>\n",
       "      <td>15.814064</td>\n",
       "      <td>8.964549</td>\n",
       "      <td>3.350202</td>\n",
       "      <td>2.712883</td>\n",
       "    </tr>\n",
       "    <tr>\n",
       "      <th>...</th>\n",
       "      <td>...</td>\n",
       "      <td>...</td>\n",
       "      <td>...</td>\n",
       "      <td>...</td>\n",
       "      <td>...</td>\n",
       "      <td>...</td>\n",
       "      <td>...</td>\n",
       "      <td>...</td>\n",
       "      <td>...</td>\n",
       "      <td>...</td>\n",
       "      <td>...</td>\n",
       "    </tr>\n",
       "    <tr>\n",
       "      <th>1003</th>\n",
       "      <td>28.754587</td>\n",
       "      <td>0.702938</td>\n",
       "      <td>-0.442390</td>\n",
       "      <td>8.915433</td>\n",
       "      <td>6.937758</td>\n",
       "      <td>7.123325</td>\n",
       "      <td>35.780348</td>\n",
       "      <td>7.716472</td>\n",
       "      <td>9.205882</td>\n",
       "      <td>4.755213</td>\n",
       "      <td>2.310926</td>\n",
       "    </tr>\n",
       "    <tr>\n",
       "      <th>982</th>\n",
       "      <td>15.217593</td>\n",
       "      <td>0.247555</td>\n",
       "      <td>-0.190381</td>\n",
       "      <td>2.625953</td>\n",
       "      <td>3.994561</td>\n",
       "      <td>4.048245</td>\n",
       "      <td>20.257431</td>\n",
       "      <td>5.504848</td>\n",
       "      <td>2.827150</td>\n",
       "      <td>2.960463</td>\n",
       "      <td>2.336898</td>\n",
       "    </tr>\n",
       "    <tr>\n",
       "      <th>1177</th>\n",
       "      <td>21.366846</td>\n",
       "      <td>0.318559</td>\n",
       "      <td>-0.474217</td>\n",
       "      <td>8.222996</td>\n",
       "      <td>1.612236</td>\n",
       "      <td>1.722590</td>\n",
       "      <td>1.986035</td>\n",
       "      <td>0.664172</td>\n",
       "      <td>8.319823</td>\n",
       "      <td>1.121297</td>\n",
       "      <td>1.123083</td>\n",
       "    </tr>\n",
       "    <tr>\n",
       "      <th>748</th>\n",
       "      <td>18.548472</td>\n",
       "      <td>0.526191</td>\n",
       "      <td>-0.558715</td>\n",
       "      <td>1.768070</td>\n",
       "      <td>0.092696</td>\n",
       "      <td>3.030944</td>\n",
       "      <td>6.114668</td>\n",
       "      <td>-0.415747</td>\n",
       "      <td>6.726709</td>\n",
       "      <td>1.499747</td>\n",
       "      <td>0.810629</td>\n",
       "    </tr>\n",
       "    <tr>\n",
       "      <th>1600</th>\n",
       "      <td>22.198813</td>\n",
       "      <td>0.737743</td>\n",
       "      <td>-0.396695</td>\n",
       "      <td>9.677086</td>\n",
       "      <td>4.064373</td>\n",
       "      <td>5.214603</td>\n",
       "      <td>12.753039</td>\n",
       "      <td>1.847086</td>\n",
       "      <td>11.338568</td>\n",
       "      <td>2.758131</td>\n",
       "      <td>1.600357</td>\n",
       "    </tr>\n",
       "  </tbody>\n",
       "</table>\n",
       "<p>512 rows × 11 columns</p>\n",
       "</div>"
      ],
      "text/plain": [
       "        acc_max   agv_max   agv_min         f7        f8  gyro_max   kurt_acc  \\\n",
       "285   12.227273  0.123320 -0.098166   1.210738  0.838226  2.343966   2.432502   \n",
       "248   27.149050  0.712099 -1.569536  13.586348  5.181700  5.347245  12.059011   \n",
       "547   20.714584  0.627789 -0.559600   0.485909 -0.157766  4.605221  -0.813295   \n",
       "442   29.382416  2.537247 -2.246331  10.706714  6.755986  6.900017  17.592749   \n",
       "546   23.021269  0.524744 -0.611789   7.428981  7.099799  7.772748  23.673423   \n",
       "...         ...       ...       ...        ...       ...       ...        ...   \n",
       "1003  28.754587  0.702938 -0.442390   8.915433  6.937758  7.123325  35.780348   \n",
       "982   15.217593  0.247555 -0.190381   2.625953  3.994561  4.048245  20.257431   \n",
       "1177  21.366846  0.318559 -0.474217   8.222996  1.612236  1.722590   1.986035   \n",
       "748   18.548472  0.526191 -0.558715   1.768070  0.092696  3.030944   6.114668   \n",
       "1600  22.198813  0.737743 -0.396695   9.677086  4.064373  5.214603  12.753039   \n",
       "\n",
       "      kurt_gyro    lin_max  skew_acc  skew_gyro  \n",
       "285   -0.522451   2.142280  0.984574   0.811317  \n",
       "248    8.326424  13.854186  2.388013   2.842873  \n",
       "547   -0.910295   8.546763  0.202807   0.229562  \n",
       "442   13.546734  10.951899  2.906674   3.284626  \n",
       "546   15.814064   8.964549  3.350202   2.712883  \n",
       "...         ...        ...       ...        ...  \n",
       "1003   7.716472   9.205882  4.755213   2.310926  \n",
       "982    5.504848   2.827150  2.960463   2.336898  \n",
       "1177   0.664172   8.319823  1.121297   1.123083  \n",
       "748   -0.415747   6.726709  1.499747   0.810629  \n",
       "1600   1.847086  11.338568  2.758131   1.600357  \n",
       "\n",
       "[512 rows x 11 columns]"
      ]
     },
     "execution_count": 88,
     "metadata": {},
     "output_type": "execute_result"
    }
   ],
   "source": []
  },
  {
   "cell_type": "code",
   "execution_count": 89,
   "metadata": {
    "scrolled": false
   },
   "outputs": [
    {
     "ename": "AttributeError",
     "evalue": "'Series' object has no attribute 'd'",
     "output_type": "error",
     "traceback": [
      "\u001b[1;31m---------------------------------------------------------------------------\u001b[0m",
      "\u001b[1;31mAttributeError\u001b[0m                            Traceback (most recent call last)",
      "\u001b[1;32m<ipython-input-89-025c78c9911c>\u001b[0m in \u001b[0;36m<module>\u001b[1;34m\u001b[0m\n\u001b[1;32m----> 1\u001b[1;33m \u001b[1;33m(\u001b[0m\u001b[0mX_val\u001b[0m\u001b[1;33m.\u001b[0m\u001b[0mloc\u001b[0m\u001b[1;33m[\u001b[0m\u001b[1;36m0\u001b[0m\u001b[1;33m]\u001b[0m\u001b[1;33m)\u001b[0m\u001b[1;33m.\u001b[0m\u001b[0md\u001b[0m\u001b[1;33m\u001b[0m\u001b[1;33m\u001b[0m\u001b[0m\n\u001b[0m",
      "\u001b[1;32mI:\\Anaconda\\lib\\site-packages\\pandas\\core\\generic.py\u001b[0m in \u001b[0;36m__getattr__\u001b[1;34m(self, name)\u001b[0m\n\u001b[0;32m   5272\u001b[0m             \u001b[1;32mif\u001b[0m \u001b[0mself\u001b[0m\u001b[1;33m.\u001b[0m\u001b[0m_info_axis\u001b[0m\u001b[1;33m.\u001b[0m\u001b[0m_can_hold_identifiers_and_holds_name\u001b[0m\u001b[1;33m(\u001b[0m\u001b[0mname\u001b[0m\u001b[1;33m)\u001b[0m\u001b[1;33m:\u001b[0m\u001b[1;33m\u001b[0m\u001b[1;33m\u001b[0m\u001b[0m\n\u001b[0;32m   5273\u001b[0m                 \u001b[1;32mreturn\u001b[0m \u001b[0mself\u001b[0m\u001b[1;33m[\u001b[0m\u001b[0mname\u001b[0m\u001b[1;33m]\u001b[0m\u001b[1;33m\u001b[0m\u001b[1;33m\u001b[0m\u001b[0m\n\u001b[1;32m-> 5274\u001b[1;33m             \u001b[1;32mreturn\u001b[0m \u001b[0mobject\u001b[0m\u001b[1;33m.\u001b[0m\u001b[0m__getattribute__\u001b[0m\u001b[1;33m(\u001b[0m\u001b[0mself\u001b[0m\u001b[1;33m,\u001b[0m \u001b[0mname\u001b[0m\u001b[1;33m)\u001b[0m\u001b[1;33m\u001b[0m\u001b[1;33m\u001b[0m\u001b[0m\n\u001b[0m\u001b[0;32m   5275\u001b[0m \u001b[1;33m\u001b[0m\u001b[0m\n\u001b[0;32m   5276\u001b[0m     \u001b[1;32mdef\u001b[0m \u001b[0m__setattr__\u001b[0m\u001b[1;33m(\u001b[0m\u001b[0mself\u001b[0m\u001b[1;33m,\u001b[0m \u001b[0mname\u001b[0m\u001b[1;33m:\u001b[0m \u001b[0mstr\u001b[0m\u001b[1;33m,\u001b[0m \u001b[0mvalue\u001b[0m\u001b[1;33m)\u001b[0m \u001b[1;33m->\u001b[0m \u001b[1;32mNone\u001b[0m\u001b[1;33m:\u001b[0m\u001b[1;33m\u001b[0m\u001b[1;33m\u001b[0m\u001b[0m\n",
      "\u001b[1;31mAttributeError\u001b[0m: 'Series' object has no attribute 'd'"
     ]
    }
   ],
   "source": []
  },
  {
   "cell_type": "code",
   "execution_count": null,
   "metadata": {},
   "outputs": [],
   "source": []
  },
  {
   "cell_type": "code",
   "execution_count": null,
   "metadata": {},
   "outputs": [],
   "source": []
  },
  {
   "cell_type": "code",
   "execution_count": null,
   "metadata": {},
   "outputs": [],
   "source": []
  }
 ],
 "metadata": {
  "kernelspec": {
   "display_name": "Python 3",
   "language": "python",
   "name": "python3"
  },
  "language_info": {
   "codemirror_mode": {
    "name": "ipython",
    "version": 3
   },
   "file_extension": ".py",
   "mimetype": "text/x-python",
   "name": "python",
   "nbconvert_exporter": "python",
   "pygments_lexer": "ipython3",
   "version": "3.8.3"
  }
 },
 "nbformat": 4,
 "nbformat_minor": 4
}
